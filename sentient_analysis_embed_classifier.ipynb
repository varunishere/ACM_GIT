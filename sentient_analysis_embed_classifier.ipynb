{
  "nbformat": 4,
  "nbformat_minor": 0,
  "metadata": {
    "colab": {
      "name": "sentient_analysis_embed_classifier.ipynb",
      "provenance": [],
      "collapsed_sections": [],
      "mount_file_id": "1RO6Xor_9jxtWZQRZNQg79yeRbNs7__Pg",
      "authorship_tag": "ABX9TyNNVcsqI1aBk+fFMahi4YSV",
      "include_colab_link": true
    },
    "kernelspec": {
      "name": "python3",
      "display_name": "Python 3"
    },
    "language_info": {
      "name": "python"
    },
    "accelerator": "GPU"
  },
  "cells": [
    {
      "cell_type": "markdown",
      "metadata": {
        "id": "view-in-github",
        "colab_type": "text"
      },
      "source": [
        "<a href=\"https://colab.research.google.com/github/varunishere/Q-learning/blob/main/sentient_analysis_embed_classifier.ipynb\" target=\"_parent\"><img src=\"https://colab.research.google.com/assets/colab-badge.svg\" alt=\"Open In Colab\"/></a>"
      ]
    },
    {
      "cell_type": "code",
      "metadata": {
        "id": "H4fKFWWaLNvT"
      },
      "source": [
        "# importing the modules required\n",
        "import re\n",
        "import pickle\n",
        "import numpy as np\n",
        "import pandas as pd\n",
        "\n",
        "import seaborn as sns\n",
        "from wordcloud import WordCloud\n",
        "import matplotlib.pyplot as plt\n",
        "\n",
        "from nltk.stem import WordNetLemmatizer\n",
        "\n",
        "from sklearn.svm import LinearSVC\n",
        "from sklearn.naive_bayes import BernoulliNB\n",
        "from sklearn.linear_model import LogisticRegression\n",
        "from sklearn.ensemble import RandomForestClassifier\n",
        "from sklearn.model_selection import RandomizedSearchCV,GridSearchCV\n",
        "from sklearn.model_selection import train_test_split\n",
        "from sklearn.feature_extraction.text import TfidfVectorizer\n",
        "from sklearn.metrics import confusion_matrix, classification_report,accuracy_score,roc_curve,auc"
      ],
      "execution_count": null,
      "outputs": []
    },
    {
      "cell_type": "code",
      "metadata": {
        "id": "gQsiJvaHbRnB"
      },
      "source": [
        "#getting the dataset\n",
        "df_columns  = [\"sentiment\", \"id\", \"date\", \"query\", \"user_id\", \"text\"]\n",
        "df_encoding = \"ISO-8859-1\"\n",
        "df = pd.read_csv('/content/drive/MyDrive/training.1600000.processed.noemoticon.csv',\n",
        "                      encoding=df_encoding , names=df_columns)\n",
        "\n",
        "df = df.drop(['id', 'date', 'query', 'user_id'], axis=1)\n",
        "df['sentiment'] = df['sentiment'].replace(4,1)\n",
        "\n",
        "\n",
        "\n",
        "text, sentiment = list(df['text']), list(df['sentiment'])"
      ],
      "execution_count": null,
      "outputs": []
    },
    {
      "cell_type": "code",
      "metadata": {
        "colab": {
          "base_uri": "https://localhost:8080/",
          "height": 370
        },
        "id": "Sn-Z7gMmhb85",
        "outputId": "21309356-42d1-4c91-a82b-712a72d9f1da"
      },
      "source": [
        "#plot the bar chart\n",
        "val_count = df.sentiment.value_counts()\n",
        "ax = df['sentiment'].unique()\n",
        "print(ax)\n",
        "plt.figure(figsize=(10,5))\n",
        "bar=val_count.plot(kind='bar', title='Sentiment Data Distribution',\n",
        "                                               legend=False)\n",
        "bar.set_xticklabels(ax, rotation=0)"
      ],
      "execution_count": null,
      "outputs": [
        {
          "output_type": "stream",
          "text": [
            "[0 1]\n"
          ],
          "name": "stdout"
        },
        {
          "output_type": "execute_result",
          "data": {
            "text/plain": [
              "[Text(0, 0, '0'), Text(0, 0, '1')]"
            ]
          },
          "metadata": {
            "tags": []
          },
          "execution_count": 46
        },
        {
          "output_type": "display_data",
          "data": {
            "image/png": "[encoded data removed]",
            "text/plain": [
              "<Figure size 720x360 with 1 Axes>"
            ]
          },
          "metadata": {
            "tags": [],
            "needs_background": "light"
          }
        }
      ]
    },
    {
      "cell_type": "code",
      "metadata": {
        "id": "8a7Au5weh6Iq"
      },
      "source": [
        "# Defining dictionary using emoticons gotten from wikipedia, emojis not used in the\n",
        "#dataset and hence not taken under consideration\n",
        "emoticons = {':)': 'smile', ':-)': 'smile', ':^)': 'smile', ':-d': 'smile', \n",
        "          ';d': 'wink',';)': 'wink', ';-)': 'wink', \n",
        "          ':(': 'sad', ':-(': 'sad', ':-<': 'sad',':\"(':'sad',':\"-(':'sad', \n",
        "          ':p': 'cheeky',':-p':'cheeky', ':o': 'surprised',\n",
        "          ':-@': 'shocked', ':@': 'shocked',':-$': 'confused', ':\\\\': 'skeptical', \n",
        "          ':#': 'tonguetied', ':X': 'tonguetied',  ':-&': 'confused', '$$':'money',\n",
        "          '@@': 'eyeroll',   'O.o': 'confused','o.o': 'confused', '*_*' :'in love',\n",
        "          '-_-': 'shame',  \":'-)\": 'sadhappy',  '^.^=': 'catface', '^_^=': 'joy',\n",
        "          '<3':'heart','</3':'brokenheart','<\\3':'brokenheart',\n",
        "          ':*':'kiss','xx':'kiss', ':3':'coysmile',':-3':'coysmile' ,\n",
        "          'owo':'cute','uwu':'joy','( ͡° ͜ʖ ͡°)':'mischievous' \t}\n",
        "\n"
      ],
      "execution_count": null,
      "outputs": []
    },
    {
      "cell_type": "code",
      "metadata": {
        "id": "e9Ao2Rl9sYdg"
      },
      "source": [
        "#preprocess the tweets\n",
        "def preprocess(textdata):\n",
        "    processedText = []\n",
        "    \n",
        "    wordLemm = WordNetLemmatizer()\n",
        "    \n",
        "    urlPattern        = r\"((https?://)[^ ]*|( www\\.)[^ ]*)\"\n",
        "    userPattern       = '@[^\\s]+'\n",
        "    alphanumPattern      = \"[^a-zA-Z0-9']\"\n",
        "    sequencePattern   = r\"(.)\\1\\1+\"\n",
        "    seqReplacePattern = r\"\\1\\1\"\n",
        "    for tweet in textdata:\n",
        "        tweet = tweet.lower()\n",
        "        \n",
        "        tweet = re.sub(urlPattern,' URL',tweet)\n",
        "        tweet = re.sub(userPattern,' USER', tweet)        \n",
        "        tweet = re.sub(sequencePattern, seqReplacePattern, tweet)\n",
        "        for emoticon in emoticons:\n",
        "            tweet = tweet.replace(emoticon, \"EMOTICON\" + emoticons[emoticon])       \n",
        "        tweet = re.sub(alphanumPattern, \" \", tweet)\n",
        "\n",
        "        tweetwords = ''\n",
        "        for word in tweet.split():\n",
        "            if len(word)>1:\n",
        "                \n",
        "                word = wordLemm.lemmatize(word)\n",
        "                tweetwords += (word+' ')\n",
        "            \n",
        "        processedText.append(tweetwords)\n",
        "        \n",
        "    return processedText"
      ],
      "execution_count": null,
      "outputs": []
    },
    {
      "cell_type": "code",
      "metadata": {
        "id": "tjQIGFXwY7_X"
      },
      "source": [
        "import time\n",
        "t = time.time()\n",
        "count=0\n",
        "processedtext = preprocess(text)\n",
        "printf(\"done\")\n"
      ],
      "execution_count": null,
      "outputs": []
    },
    {
      "cell_type": "code",
      "metadata": {
        "colab": {
          "base_uri": "https://localhost:8080/"
        },
        "id": "Q975fQHl8guY",
        "outputId": "efeea0b4-5121-4d38-bc8b-4c5407d9575b"
      },
      "source": [
        "\n",
        "count=0\n",
        "for tex in text:\n",
        "    if count<50:\n",
        "        print(tex)\n",
        "    count+=1\n",
        "count=0\n",
        "for tex in processedtext:\n",
        "    if count<50:\n",
        "        print(tex)\n",
        "    count+=1\n"
      ],
      "execution_count": null,
      "outputs": [
        {
          "output_type": "stream",
          "text": [
            "@switchfoot http://twitpic.com/2y1zl - Awww, that's a bummer.  You shoulda got David Carr of Third Day to do it. ;D\n",
            "is upset that he can't update his Facebook by texting it... and might cry as a result  School today also. Blah!\n",
            "@Kenichan I dived many times for the ball. Managed to save 50%  The rest go out of bounds\n",
            "my whole body feels itchy and like its on fire \n",
            "@nationwideclass no, it's not behaving at all. i'm mad. why am i here? because I can't see you all over there. \n",
            "@Kwesidei not the whole crew \n",
            "Need a hug \n",
            "@LOLTrish hey  long time no see! Yes.. Rains a bit ,only a bit  LOL , I'm fine thanks , how's you ?\n",
            "@Tatiana_K nope they didn't have it \n",
            "@twittera que me muera ? \n",
            "spring break in plain city... it's snowing \n",
            "I just re-pierced my ears \n",
            "@caregiving I couldn't bear to watch it.  And I thought the UA loss was embarrassing . . . . .\n",
            "@octolinz16 It it counts, idk why I did either. you never talk to me anymore \n",
            "@smarrison i would've been the first, but i didn't have a gun.    not really though, zac snyder's just a doucheclown.\n",
            "@iamjazzyfizzle I wish I got to watch it with you!! I miss you and @iamlilnicki  how was the premiere?!\n",
            "Hollis' death scene will hurt me severely to watch on film  wry is directors cut not out now?\n",
            "about to file taxes \n",
            "@LettyA ahh ive always wanted to see rent  love the soundtrack!!\n",
            "@FakerPattyPattz Oh dear. Were you drinking out of the forgotten table drinks? \n",
            "@alydesigns i was out most of the day so didn't get much done \n",
            "one of my friend called me, and asked to meet with her at Mid Valley today...but i've no time *sigh* \n",
            "@angry_barista I baked you a cake but I ated it \n",
            "this week is not going as i had hoped \n",
            "blagh class at 8 tomorrow \n",
            "I hate when I have to call and wake people up \n",
            "Just going to cry myself to sleep after watching Marley and Me.  \n",
            "im sad now  Miss.Lilly\n",
            "ooooh.... LOL  that leslie.... and ok I won't do it again so leslie won't  get mad again \n",
            "Meh... Almost Lover is the exception... this track gets me depressed every time. \n",
            "some1 hacked my account on aim  now i have to make a new one\n",
            "@alielayus I want to go to promote GEAR AND GROOVE but unfornately no ride there  I may b going to the one in Anaheim in May though\n",
            "thought sleeping in was an option tomorrow but realizing that it now is not. evaluations in the morning and work in the afternoon! \n",
            "@julieebaby awe i love you too!!!! 1 am here  i miss you\n",
            "@HumpNinja I cry my asian eyes to sleep at night \n",
            "ok I'm sick and spent an hour sitting in the shower cause I was too sick to stand and held back the puke like a champ. BED now \n",
            "@cocomix04 ill tell ya the story later  not a good day and ill be workin for like three more hours...\n",
            "@MissXu sorry! bed time came here (GMT+1)   http://is.gd/fNge\n",
            "@fleurylis I don't either. Its depressing. I don't think I even want to know about the kids in suitcases. \n",
            "Bed. Class 8-12. Work 12-3. Gym 3-5 or 6. Then class 6-10. Another day that's gonna fly by. I miss my girlfriend \n",
            "really don't feel like getting up today... but got to study to for tomorrows practical exam... \n",
            "He's the reason for the teardrops on my guitar the only one who has enough of me to break my heart \n",
            "Sad, sad, sad. I don't know why but I hate this feeling  I wanna sleep and I still can't!\n",
            "@JonathanRKnight Awww I soo wish I was there to see you finally comfortable! Im sad that I missed it \n",
            "Falling asleep. Just heard about that Tracy girl's body being found. How sad  My heart breaks for that family.\n",
            "@Viennah Yay! I'm happy for you with your job! But that also means less time for me and you... \n",
            "Just checked my user timeline on my blackberry, it looks like the twanking is still happening  Are ppl still having probs w/ BGs and UIDs?\n",
            "Oh man...was ironing @jeancjumbe's fave top to wear to a meeting. Burnt it \n",
            "is strangely sad about LiLo and SamRo breaking up. \n",
            "@tea oh! i'm so sorry  i didn't think about that before retweeting.\n",
            "USER URL aww that's bummer you shoulda got david carr of third day to do it EMOTICONwink \n",
            "is upset that he can't update his facebook by texting it and might cry a result school today also blah \n",
            "USER dived many time for the ball managed to save 50 the rest go out of bound \n",
            "my whole body feel itchy and like it on fire \n",
            "USER no it's not behaving at all i'm mad why am here because can't see you all over there \n",
            "USER not the whole crew \n",
            "need hug \n",
            "USER hey long time no see yes rain bit only bit lol i'm fine thanks how's you \n",
            "USER nope they didn't have it \n",
            "USER que me muera \n",
            "spring break in plain city it's snowing \n",
            "just re pierced my ear \n",
            "USER couldn't bear to watch it and thought the ua loss wa embarrassing \n",
            "USER it it count idk why did either you never talk to me anymore \n",
            "USER would've been the first but didn't have gun not really though zac snyder's just doucheclown \n",
            "USER wish got to watch it with you miss you and USER how wa the premiere \n",
            "hollis' death scene will hurt me severely to watch on film wry is director cut not out now \n",
            "about to file tax \n",
            "USER ahh ive always wanted to see rent love the soundtrack \n",
            "USER oh dear were you drinking out of the forgotten table drink \n",
            "USER wa out most of the day so didn't get much done \n",
            "one of my friend called me and asked to meet with her at mid valley today but i've no time sigh \n",
            "USER baked you cake but ated it \n",
            "this week is not going a had hoped \n",
            "blagh class at tomorrow \n",
            "hate when have to call and wake people up \n",
            "just going to cry myself to sleep after watching marley and me \n",
            "im sad now miss lilly \n",
            "ooh lol that leslie and ok won't do it again so leslie won't get mad again \n",
            "meh almost lover is the exception this track get me depressed every time \n",
            "some1 hacked my account on aim now have to make new one \n",
            "USER want to go to promote gear and groove but unfornately no ride there may going to the one in anaheim in may though \n",
            "thought sleeping in wa an option tomorrow but realizing that it now is not evaluation in the morning and work in the afternoon \n",
            "USER awe love you too am here miss you \n",
            "USER cry my asian eye to sleep at night \n",
            "ok i'm sick and spent an hour sitting in the shower cause wa too sick to stand and held back the puke like champ bed now \n",
            "USER ill tell ya the story later not good day and ill be workin for like three more hour \n",
            "USER sorry bed time came here gmt URL \n",
            "USER don't either it depressing don't think even want to know about the kid in suitcase \n",
            "bed class 12 work 12 gym or then class 10 another day that's gonna fly by miss my girlfriend \n",
            "really don't feel like getting up today but got to study to for tomorrow practical exam \n",
            "he's the reason for the teardrop on my guitar the only one who ha enough of me to break my heart \n",
            "sad sad sad don't know why but hate this feeling wanna sleep and still can't \n",
            "USER aww soo wish wa there to see you finally comfortable im sad that missed it \n",
            "falling asleep just heard about that tracy girl's body being found how sad my heart break for that family \n",
            "USER yay i'm happy for you with your job but that also mean le time for me and you \n",
            "just checked my user timeline on my blackberry it look like the twanking is still happening are ppl still having probs bgs and uids \n",
            "oh man wa ironing USER fave top to wear to meeting burnt it \n",
            "is strangely sad about lilo and samro breaking up \n",
            "USER oh i'm so sorry didn't think about that before retweeting \n"
          ],
          "name": "stdout"
        }
      ]
    },
    {
      "cell_type": "code",
      "metadata": {
        "id": "MBC5lmR_FYXU"
      },
      "source": [
        "X_train_1, X_test_1, y_train, y_test = train_test_split(processedtext, sentiment,\n",
        "                                                    test_size = 0.0025, random_state = 0)\n"
      ],
      "execution_count": null,
      "outputs": []
    },
    {
      "cell_type": "code",
      "metadata": {
        "colab": {
          "base_uri": "https://localhost:8080/"
        },
        "id": "mCm5_2ztMT9I",
        "outputId": "5b756728-a085-4977-e1e0-62f4a749562f"
      },
      "source": [
        "!python --version\n"
      ],
      "execution_count": null,
      "outputs": [
        {
          "output_type": "stream",
          "text": [
            "Python 3.7.10\n"
          ],
          "name": "stdout"
        }
      ]
    },
    {
      "cell_type": "code",
      "metadata": {
        "id": "y6apJJ9TSCyu",
        "colab": {
          "base_uri": "https://localhost:8080/"
        },
        "outputId": "f512b913-2756-4491-f25e-31a842b93233"
      },
      "source": [
        "vectoriser = TfidfVectorizer(ngram_range=(1,2), max_features=500000,token_pattern=r\"(?u)\\b\\w\\w+\\b|\\'\")\n",
        "vectoriser.fit(X_train_1)\n",
        "print(\"done\")"
      ],
      "execution_count": null,
      "outputs": [
        {
          "output_type": "stream",
          "text": [
            "done\n"
          ],
          "name": "stdout"
        }
      ]
    },
    {
      "cell_type": "code",
      "metadata": {
        "colab": {
          "base_uri": "https://localhost:8080/"
        },
        "id": "1Q0GsvrYHdyI",
        "outputId": "2bfbc17c-ead1-44a1-8f7b-e3095309205c"
      },
      "source": [
        "X_train = vectoriser.transform(X_train_1)\n",
        "X_test  = vectoriser.transform(X_test_1)\n",
        "print(f'Data Transformed.')"
      ],
      "execution_count": null,
      "outputs": [
        {
          "output_type": "stream",
          "text": [
            "Data Transformed.\n"
          ],
          "name": "stdout"
        }
      ]
    },
    {
      "cell_type": "code",
      "metadata": {
        "id": "d5YM0ZRrHgv4"
      },
      "source": [
        "#the sentiment of test data is predicted and the graphs are plotted\n",
        "def model_predict(model,string):\n",
        "    \n",
        "    # Predict values for Test dataset\n",
        "    y_pred = model.predict(X_test)\n",
        "\n",
        "    # Print the evaluation metrics for the dataset.\n",
        "    print(classification_report(y_test, y_pred, output_dict=False))\n",
        "    acc_sc=accuracy_score(y_test, y_pred)\n",
        "    print(acc_sc)\n",
        "    falsep, truep, _ = roc_curve(y_test, y_pred)\n",
        "    roc_auc = auc(falsep,truep)\n",
        "    print(roc_auc)\n",
        "    # fig, ax = plt.subplots(1,1)\n",
        "    # ax.plot(falsep, truep, label='ROC curve (area = %0.2f)' % roc_auc)\n",
        "    # ax.plot([0, 1], [0, 1], 'k--')\n",
        "    # ax.set_xlim([0.0, 1.0])\n",
        "    # ax.set_ylim([0.0, 1.05])\n",
        "    # ax.set_xlabel('False Positive Rate')\n",
        "    # ax.set_ylabel('True Positive Rate')\n",
        "    # ax.set_title(f'ROC Curve for {string}')\n",
        "    # ax.legend(loc=\"upper left\")\n",
        "    # cf_matrix = confusion_matrix(y_test, y_pred)\n",
        "\n",
        "    categories  = ['Negative','Positive']\n",
        "    group_names = ['True Neg','False Pos', 'False Neg','True Pos']\n",
        "    group_percentages = ['{0:.2%}'.format(value) for value in cf_matrix.flatten() / np.sum(cf_matrix)]\n",
        "    labels=[]\n",
        "    for v1, v2 in zip(group_names,group_percentages):\n",
        "        label_write=f'{v1}\\n{v2}'\n",
        "        labels.append(label_write)\n",
        "    labels = np.asarray(labels).reshape(2,2)\n",
        "\n",
        "    sns.heatmap(cf_matrix, annot = labels, cmap = 'PuBu',fmt = '',\n",
        "                xticklabels = categories, yticklabels = categories)\n",
        "\n",
        "    plt.xlabel(\"Predicted values\", fontdict = {'size':14}, labelpad = 10)\n",
        "    plt.ylabel(\"Actual values\"   , fontdict = {'size':14}, labelpad = 10)\n",
        "    plt.title (f\"Confusion Matrix for {string}\", fontdict = {'size':18}, pad = 20)\n",
        "    return acc_sc"
      ],
      "execution_count": null,
      "outputs": []
    },
    {
      "cell_type": "code",
      "metadata": {
        "id": "dNkYm_W9HkT2",
        "colab": {
          "base_uri": "https://localhost:8080/",
          "height": 497
        },
        "outputId": "24fccbfd-ec82-4671-ca05-bf109ca14555"
      },
      "source": [
        "acc={}\n",
        "BNBmodel = BernoulliNB(alpha = 1.2)\n",
        "BNBmodel.fit(X_train, y_train)\n",
        "acc_BNB=model_predict(BNBmodel,'BNB')\n",
        "acc['NaiveBayes']=acc_BNB\n",
        "print(acc)"
      ],
      "execution_count": null,
      "outputs": [
        {
          "output_type": "stream",
          "text": [
            "              precision    recall  f1-score   support\n",
            "\n",
            "           0       0.81      0.79      0.80      2002\n",
            "           1       0.79      0.82      0.80      1998\n",
            "\n",
            "    accuracy                           0.80      4000\n",
            "   macro avg       0.80      0.80      0.80      4000\n",
            "weighted avg       0.80      0.80      0.80      4000\n",
            "\n",
            "0.8025\n",
            "0.8025133025133027\n",
            "{'NaiveBayes': 0.8025}\n"
          ],
          "name": "stdout"
        },
        {
          "output_type": "display_data",
          "data": {
            "image/png": "[encoded data removed]",
            "text/plain": [
              "<Figure size 432x288 with 1 Axes>"
            ]
          },
          "metadata": {
            "tags": [],
            "needs_background": "light"
          }
        }
      ]
    },
    {
      "cell_type": "code",
      "metadata": {
        "id": "l9KNQsFZVHrI",
        "colab": {
          "base_uri": "https://localhost:8080/",
          "height": 497
        },
        "outputId": "8a1e603b-49cb-440d-e6b4-5a6f550dd685"
      },
      "source": [
        "LRmodel = LogisticRegression(C = 1.2 ,max_iter = 35, n_jobs=-1)\n",
        "LRmodel.fit(X_train, y_train)\n",
        "acc_LR=model_predict(LRmodel,'LR')\n",
        "acc['LR']=acc_LR\n",
        "print(acc)"
      ],
      "execution_count": null,
      "outputs": [
        {
          "output_type": "stream",
          "text": [
            "              precision    recall  f1-score   support\n",
            "\n",
            "           0       0.83      0.81      0.82      2002\n",
            "           1       0.82      0.84      0.83      1998\n",
            "\n",
            "    accuracy                           0.82      4000\n",
            "   macro avg       0.82      0.82      0.82      4000\n",
            "weighted avg       0.82      0.82      0.82      4000\n",
            "\n",
            "0.824\n",
            "0.824012824012824\n",
            "{'NaiveBayes': 0.8025, 'LR': 0.824}\n"
          ],
          "name": "stdout"
        },
        {
          "output_type": "display_data",
          "data": {
            "image/png": "[encoded data removed]",
            "text/plain": [
              "<Figure size 432x288 with 1 Axes>"
            ]
          },
          "metadata": {
            "tags": [],
            "needs_background": "light"
          }
        }
      ]
    },
    {
      "cell_type": "code",
      "metadata": {
        "id": "z8_Ao2jJWAtk",
        "colab": {
          "base_uri": "https://localhost:8080/",
          "height": 525
        },
        "outputId": "893dae6b-34f9-457d-9ea0-d3d69efe3b5a"
      },
      "source": [
        "SVCmodel = LinearSVC()\n",
        "SVCmodel.fit(X_train, y_train)\n",
        "acc_SVC=model_predict(SVCmodel,'SVC')\n",
        "acc['SVC']=acc_SVC\n",
        "print(acc)"
      ],
      "execution_count": null,
      "outputs": [
        {
          "output_type": "stream",
          "text": [
            "              precision    recall  f1-score   support\n",
            "\n",
            "           0       0.82      0.79      0.81      2002\n",
            "           1       0.80      0.82      0.81      1998\n",
            "\n",
            "    accuracy                           0.81      4000\n",
            "   macro avg       0.81      0.81      0.81      4000\n",
            "weighted avg       0.81      0.81      0.81      4000\n",
            "\n",
            "0.80875\n",
            "0.8087640587640588\n",
            "{'NaiveBayes': 0.8025, 'LR': 0.824, 'SVC': 0.80875}\n"
          ],
          "name": "stdout"
        },
        {
          "output_type": "display_data",
          "data": {
            "image/png": "[encoded data removed]",
            "text/plain": [
              "<Figure size 432x288 with 2 Axes>"
            ]
          },
          "metadata": {
            "tags": [],
            "needs_background": "light"
          }
        }
      ]
    },
    {
      "cell_type": "code",
      "metadata": {
        "id": "eKHnxRjdWBe3",
        "colab": {
          "base_uri": "https://localhost:8080/",
          "height": 525
        },
        "outputId": "19f7fbb9-ee9c-46fd-ceae-5a614778125b"
      },
      "source": [
        "RFmodel = RandomForestClassifier(n_estimators = 150, max_depth = 10)\n",
        "RFmodel.fit(X_train, y_train)\n",
        "acc_RF=model_predict(RFmodel,'rf')\n",
        "acc['rf']=acc_RF\n",
        "print(acc)"
      ],
      "execution_count": null,
      "outputs": [
        {
          "output_type": "stream",
          "text": [
            "              precision    recall  f1-score   support\n",
            "\n",
            "           0       0.77      0.69      0.73      2002\n",
            "           1       0.72      0.79      0.75      1998\n",
            "\n",
            "    accuracy                           0.74      4000\n",
            "   macro avg       0.74      0.74      0.74      4000\n",
            "weighted avg       0.74      0.74      0.74      4000\n",
            "\n",
            "0.7415\n",
            "0.7415512415512415\n",
            "{'NaiveBayes': 0.8025, 'LR': 0.824, 'SVC': 0.80875, 'rf': 0.7415}\n"
          ],
          "name": "stdout"
        },
        {
          "output_type": "display_data",
          "data": {
            "image/png": "[encoded data removed]",
            "text/plain": [
              "<Figure size 432x288 with 2 Axes>"
            ]
          },
          "metadata": {
            "tags": [],
            "needs_background": "light"
          }
        }
      ]
    },
    {
      "cell_type": "code",
      "metadata": {
        "colab": {
          "base_uri": "https://localhost:8080/"
        },
        "id": "kV5lCgT-VWZu",
        "outputId": "a7d68df0-f36f-4f2e-df66-00913cb32a56"
      },
      "source": [
        "print(acc)"
      ],
      "execution_count": null,
      "outputs": [
        {
          "output_type": "stream",
          "text": [
            "{'NaiveBayes': 0.8025, 'LR': 0.824}\n"
          ],
          "name": "stdout"
        }
      ]
    },
    {
      "cell_type": "code",
      "metadata": {
        "id": "2Wpy0nMKWLY2"
      },
      "source": [
        "path_accuracy={}\n",
        "vectoriser_path='vectoriser.pickle'\n",
        "file = open(vectoriser_path,'wb')\n",
        "pickle.dump(vectoriser, file)\n",
        "file.close()\n",
        "\n",
        "LR_path='LR.pickle'\n",
        "path_accuracy[LR_path]=acc_LR\n",
        "file = open(LR_path,'wb')\n",
        "pickle.dump(LRmodel, file)\n",
        "file.close()\n",
        "\n",
        "BNB_path='BNB.pickle'\n",
        "path_accuracy[BNB_path]=acc_BNB\n",
        "file = open(BNB_path,'wb')\n",
        "pickle.dump(BNBmodel, file)\n",
        "file.close()\n",
        "\n",
        "SVC_path='SVC.pickle'\n",
        "path_accuracy[SVC_path]=acc_SVC\n",
        "file=open(SVC_path,'wb')\n",
        "pickle.dump(SVCmodel,file)\n",
        "file.close()\n",
        "\n",
        "RF_path='RF.pickle'\n",
        "path_accuracy[RF_path]=acc_RF\n",
        "file=open(RF_path,'wb')\n",
        "pickle.dump(RFmodel,file)\n",
        "file.close()\n"
      ],
      "execution_count": null,
      "outputs": []
    },
    {
      "cell_type": "code",
      "metadata": {
        "id": "4ztv7gKMjL-Y"
      },
      "source": [
        "def load_vectorizer():\n",
        "    file = open(f'/content/{vectoriser_path}', 'rb')\n",
        "    vectoriser = pickle.load(file)\n",
        "    file.close()\n",
        "    return vectoriser"
      ],
      "execution_count": null,
      "outputs": []
    },
    {
      "cell_type": "code",
      "metadata": {
        "id": "O_dSlJ-sh4c9"
      },
      "source": [
        "#gives back the model\n",
        "def load_given_model(model_path):\n",
        "    \n",
        "    file = open(model_path, 'rb')\n",
        "    model = pickle.load(file)\n",
        "    file.close()\n",
        "    return  model\n",
        "\n",
        "\n"
      ],
      "execution_count": null,
      "outputs": []
    },
    {
      "cell_type": "code",
      "metadata": {
        "id": "E2AFs8WZdVa9"
      },
      "source": [
        "def calculate_sentiment_count(tweet,all_models):\n",
        "    positive_count=0\n",
        "    negative_count=0\n",
        "    for model in all_models:\n",
        "        sentiment = all_models[model].predict(tweet)\n",
        "        if sentiment:\n",
        "            positive_count+=1\n",
        "        else:\n",
        "            negative_count+=1\n",
        "    return positive_count,negative_count\n",
        "        "
      ],
      "execution_count": null,
      "outputs": []
    },
    {
      "cell_type": "code",
      "metadata": {
        "id": "o-tv35HxUfKN",
        "colab": {
          "base_uri": "https://localhost:8080/"
        },
        "outputId": "6d84e808-e2c2-46be-8c27-ffe823c4f918"
      },
      "source": [
        "def calculate_total_weight():\n",
        "    tot_weight=0.0\n",
        "    for path in path_accuracy:\n",
        "        print(path_accuracy[path])\n",
        "        tot_weight+=path_accuracy[path]\n",
        "    return tot_weight\n",
        "total_models_weight=calculate_total_weight()\n",
        "print(total_models_weight)"
      ],
      "execution_count": null,
      "outputs": [
        {
          "output_type": "stream",
          "text": [
            "0.824\n",
            "0.8025\n",
            "0.80875\n",
            "0.7415\n",
            "3.17675\n"
          ],
          "name": "stdout"
        }
      ]
    },
    {
      "cell_type": "code",
      "metadata": {
        "id": "ZKxMLU3YTqY2"
      },
      "source": [
        "def calculate_weight(path):\n",
        "    total_weight=total_models_weight\n",
        "    path_weight=path_accuracy[path]/total_weight\n",
        "    return path_weight"
      ],
      "execution_count": null,
      "outputs": []
    },
    {
      "cell_type": "code",
      "metadata": {
        "id": "4eWJ-cuaPLn_"
      },
      "source": [
        "def calculate_sentiment_score(tweet,all_models,weight_of_models,positive_prob_count,negative_prob_count):\n",
        "    positive_score=0\n",
        "    negative_score=0\n",
        "    for model in all_models:\n",
        "        sentiment = all_models[model].predict(tweet)\n",
        "        weight_model=weight_of_models[model]\n",
        "        if sentiment:\n",
        "            positive_score+=positive_prob_count * weight_model\n",
        "        else:\n",
        "            negative_score +=negative_prob_count * weight_model\n",
        "    return positive_score,negative_score"
      ],
      "execution_count": null,
      "outputs": []
    },
    {
      "cell_type": "code",
      "metadata": {
        "id": "PhKntS2lPWis"
      },
      "source": [
        "def ensemble(tweetwords):\n",
        "    pred_text=[]\n",
        "    count=0\n",
        "    i=0\n",
        "    all_models={}\n",
        "    weight_of_models={}\n",
        "    for path in path_accuracy:\n",
        "        model=load_given_model(path)\n",
        "        all_models[path]=model\n",
        "        weight_of_models[path]=calculate_weight(path)\n",
        "    for tweet in tweetwords:\n",
        "        if (i%100==0):\n",
        "            print(i)\n",
        "        i+=1\n",
        "        positive_count,negative_count=calculate_sentiment_count(tweet,all_models)\n",
        "        positive_prob_count=positive_count/(positive_count+negative_count)\n",
        "        negative_prob_count=negative_count/(positive_count+negative_count)\n",
        "        positive_score,negative_score=calculate_sentiment_score(tweet,all_models,weight_of_models,positive_prob_count,negative_prob_count)\n",
        "        if positive_score >= negative_score:\n",
        "            sentiment_pred=1\n",
        "        else:\n",
        "            sentiment_pred=0\n",
        "        if count<10:\n",
        "            print(positive_count,negative_count)\n",
        "            print(positive_prob_count,negative_prob_count)\n",
        "            print(positive_score,negative_score)\n",
        "            print(sentiment_pred)\n",
        "            count+=1\n",
        "        pred_text.append(sentiment_pred)\n",
        "    print(classification_report(y_test, pred_text, output_dict=False))\n",
        "    print(accuracy_score(y_test, pred_text))\n",
        "    cf_matrix = confusion_matrix(y_test, pred_text)\n",
        "\n",
        "    categories  = ['Negative','Positive']\n",
        "    group_names = ['True Neg','False Pos', 'False Neg','True Pos']\n",
        "    group_percentages = ['{0:.2%}'.format(value) for value in cf_matrix.flatten() / np.sum(cf_matrix)]\n",
        "\n",
        "    labels=[]\n",
        "    for v1, v2 in zip(group_names,group_percentages):\n",
        "        label_write=f'{v1}\\n{v2}'\n",
        "        labels.append(label_write)\n",
        "    labels = np.asarray(labels).reshape(2,2)\n",
        "    sns.heatmap(cf_matrix, annot = labels, cmap = 'PuBu',fmt = '',\n",
        "                xticklabels = categories, yticklabels = categories)\n",
        "\n",
        "    plt.xlabel(\"Predicted values\", fontdict = {'size':14}, labelpad = 10)\n",
        "    plt.ylabel(\"Actual values\"   , fontdict = {'size':14}, labelpad = 10)\n",
        "    plt.title (\"Confusion Matrix for ensemble classifier\", fontdict = {'size':18}, pad = 20)"
      ],
      "execution_count": null,
      "outputs": []
    },
    {
      "cell_type": "code",
      "metadata": {
        "id": "A2nSUW0TOqMy",
        "colab": {
          "base_uri": "https://localhost:8080/",
          "height": 1000
        },
        "outputId": "a2baf3c3-49ac-405e-a4b6-7326ed241cf0"
      },
      "source": [
        "ensemble(X_test)\n"
      ],
      "execution_count": null,
      "outputs": [
        {
          "output_type": "stream",
          "text": [
            "0\n",
            "0 4\n",
            "0.0 1.0\n",
            "0 0.9999999999999999\n",
            "0\n",
            "0 4\n",
            "0.0 1.0\n",
            "0 0.9999999999999999\n",
            "0\n",
            "1 3\n",
            "0.25 0.75\n",
            "0.06484614779255528 0.5554615566223342\n",
            "0\n",
            "0 4\n",
            "0.0 1.0\n",
            "0 0.9999999999999999\n",
            "0\n",
            "2 2\n",
            "0.5 0.5\n",
            "0.24301566065947905 0.25698433934052095\n",
            "0\n",
            "0 4\n",
            "0.0 1.0\n",
            "0 0.9999999999999999\n",
            "0\n",
            "4 0\n",
            "1.0 0.0\n",
            "0.9999999999999999 0\n",
            "1\n",
            "4 0\n",
            "1.0 0.0\n",
            "0.9999999999999999 0\n",
            "1\n",
            "2 2\n",
            "0.5 0.5\n",
            "0.25698433934052095 0.24301566065947905\n",
            "1\n",
            "0 4\n",
            "0.0 1.0\n",
            "0 0.9999999999999999\n",
            "0\n",
            "100\n",
            "200\n",
            "300\n",
            "400\n",
            "500\n",
            "600\n",
            "700\n",
            "800\n",
            "900\n",
            "1000\n",
            "1100\n",
            "1200\n",
            "1300\n",
            "1400\n",
            "1500\n",
            "1600\n",
            "1700\n",
            "1800\n",
            "1900\n",
            "2000\n",
            "2100\n",
            "2200\n",
            "2300\n",
            "2400\n",
            "2500\n",
            "2600\n",
            "2700\n",
            "2800\n",
            "2900\n",
            "3000\n",
            "3100\n",
            "3200\n",
            "3300\n",
            "3400\n",
            "3500\n",
            "3600\n",
            "3700\n",
            "3800\n",
            "3900\n",
            "              precision    recall  f1-score   support\n",
            "\n",
            "           0       0.83      0.81      0.82      2002\n",
            "           1       0.81      0.83      0.82      1998\n",
            "\n",
            "    accuracy                           0.82      4000\n",
            "   macro avg       0.82      0.82      0.82      4000\n",
            "weighted avg       0.82      0.82      0.82      4000\n",
            "\n",
            "0.8215\n"
          ],
          "name": "stdout"
        },
        {
          "output_type": "display_data",
          "data": {
            "image/png": "[encoded data removed]",
            "text/plain": [
              "<Figure size 432x288 with 2 Axes>"
            ]
          },
          "metadata": {
            "tags": [],
            "needs_background": "light"
          }
        }
      ]
    },
    {
      "cell_type": "code",
      "metadata": {
        "colab": {
          "base_uri": "https://localhost:8080/"
        },
        "id": "-mMNvrGKoXoa",
        "outputId": "6924f883-d1ac-4d27-f662-1a82dc604e9e"
      },
      "source": [
        "count=0\n",
        "for test in X_test_1:\n",
        "    if count<10:\n",
        "        print(test)\n",
        "        count+=1"
      ],
      "execution_count": null,
      "outputs": [
        {
          "output_type": "stream",
          "text": [
            "want to compete want hard competition want to rally want to feel the power coming out of the engine want to compete \n",
            "it seems we are stuck on the ground in amarillo they have put ground stop for all flight leaving for denver said update in an hour \n",
            "where the are my pinking shear rarararrarararr babyproofing while cutting stuff make me stick shear random place amp forget them \n",
            "0ff t0 the meetin hate when ppl v0lunteer my free time grr \n",
            "reply me pls \n",
            "USER jazz in india is just honda strategy to prove they can make affordable car for the working class it still doesn't fit me \n",
            "aah met boy he seems nice im happy now \n",
            "USER URL sport center you guy are too legit to quit wooww \n",
            "USER not bad bit grumpy cause of exam but generally ok ta \n",
            "USER can't watch it what is it \n"
          ],
          "name": "stdout"
        }
      ]
    }
  ]
}